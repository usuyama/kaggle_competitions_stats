{
 "cells": [
  {
   "cell_type": "code",
   "execution_count": 1,
   "metadata": {
    "scrolled": false
   },
   "outputs": [
    {
     "name": "stdout",
     "output_type": "stream",
     "text": [
      "339\n",
      "\n",
      "\n",
      "\n",
      "time data 'Ongoing' does not match format '%a %b %d %Y' ['Knowledge', 'Predict sales prices and practice feature engineering, RFs, and gradient boosting', '4,644 teams', ['', 'Ongoing', '', '', '', '', '', '']]\n",
      "\n",
      "\n",
      "\n",
      "\n",
      "\n",
      "time data 'Ongoing' does not match format '%a %b %d %Y' ['Knowledge', 'Start here! Predict survival on the Titanic and get familiar with ML basics', '11,050 teams', ['', 'Ongoing', '', '', '', '', '', '', '']]\n",
      "time data 'Ongoing' does not match format '%a %b %d %Y' ['Knowledge', 'Learn computer vision fundamentals with the famous MNIST data', '3,078 teams', ['', 'Ongoing', '', '', '', '', '', '', '', '']]\n",
      "\n",
      "\n"
     ]
    },
    {
     "data": {
      "text/html": [
       "<div>\n",
       "<style scoped>\n",
       "    .dataframe tbody tr th:only-of-type {\n",
       "        vertical-align: middle;\n",
       "    }\n",
       "\n",
       "    .dataframe tbody tr th {\n",
       "        vertical-align: top;\n",
       "    }\n",
       "\n",
       "    .dataframe thead th {\n",
       "        text-align: right;\n",
       "    }\n",
       "</style>\n",
       "<table border=\"1\" class=\"dataframe\">\n",
       "  <thead>\n",
       "    <tr style=\"text-align: right;\">\n",
       "      <th></th>\n",
       "      <th>title</th>\n",
       "      <th>prize</th>\n",
       "      <th>prize_type</th>\n",
       "      <th>teams</th>\n",
       "      <th>submission_close</th>\n",
       "    </tr>\n",
       "  </thead>\n",
       "  <tbody>\n",
       "    <tr>\n",
       "      <th>0</th>\n",
       "      <td>Detect objects in varied and complex images</td>\n",
       "      <td>25000.0</td>\n",
       "      <td>money</td>\n",
       "      <td>21.0</td>\n",
       "      <td>2019-10-01</td>\n",
       "    </tr>\n",
       "    <tr>\n",
       "      <th>1</th>\n",
       "      <td>Detect pairs of objects in particular relation...</td>\n",
       "      <td>25000.0</td>\n",
       "      <td>money</td>\n",
       "      <td>16.0</td>\n",
       "      <td>2019-10-01</td>\n",
       "    </tr>\n",
       "    <tr>\n",
       "      <th>2</th>\n",
       "      <td>Can you measure the magnetic interactions betw...</td>\n",
       "      <td>30000.0</td>\n",
       "      <td>money</td>\n",
       "      <td>444.0</td>\n",
       "      <td>2019-08-28</td>\n",
       "    </tr>\n",
       "    <tr>\n",
       "      <th>3</th>\n",
       "      <td>A synchronous Kernels-only competition</td>\n",
       "      <td>5000.0</td>\n",
       "      <td>money</td>\n",
       "      <td>1075.0</td>\n",
       "      <td>2019-06-20</td>\n",
       "    </tr>\n",
       "    <tr>\n",
       "      <th>4</th>\n",
       "      <td>Can you determine if two individuals are related?</td>\n",
       "      <td>NaN</td>\n",
       "      <td>Knowledge</td>\n",
       "      <td>235.0</td>\n",
       "      <td>2019-08-01</td>\n",
       "    </tr>\n",
       "  </tbody>\n",
       "</table>\n",
       "</div>"
      ],
      "text/plain": [
       "                                               title    prize prize_type  \\\n",
       "0        Detect objects in varied and complex images  25000.0      money   \n",
       "1  Detect pairs of objects in particular relation...  25000.0      money   \n",
       "2  Can you measure the magnetic interactions betw...  30000.0      money   \n",
       "3             A synchronous Kernels-only competition   5000.0      money   \n",
       "4  Can you determine if two individuals are related?      NaN  Knowledge   \n",
       "\n",
       "    teams submission_close  \n",
       "0    21.0       2019-10-01  \n",
       "1    16.0       2019-10-01  \n",
       "2   444.0       2019-08-28  \n",
       "3  1075.0       2019-06-20  \n",
       "4   235.0       2019-08-01  "
      ]
     },
     "execution_count": 1,
     "metadata": {},
     "output_type": "execute_result"
    }
   ],
   "source": [
    "%matplotlib inline\n",
    "%load_ext autoreload\n",
    "%autoreload 2\n",
    "\n",
    "import os,sys\n",
    "import matplotlib.pyplot as plt\n",
    "import numpy as np\n",
    "import pandas as pd\n",
    "import json\n",
    "\n",
    "from datetime import datetime\n",
    "\n",
    "json_path = \"06032019.json\"\n",
    "\n",
    "with open(json_path, 'r') as f:\n",
    "    competition_cards = json.load(f)\n",
    "    \n",
    "print(len(competition_cards))\n",
    "\n",
    "records = []\n",
    "for card in competition_cards:\n",
    "    title = card[1]\n",
    "    r = [title]\n",
    "    \n",
    "    prize = card[0]\n",
    "    if '$' in prize:\n",
    "        prize_type = 'money'\n",
    "        prize = int(prize.replace('$', '').replace(',', ''))\n",
    "    else:\n",
    "        prize_type = prize\n",
    "        prize = None\n",
    "        \n",
    "    r.append(prize)\n",
    "    r.append(prize_type)\n",
    "    \n",
    "    teams = card[2]\n",
    "    if 'teams' in teams:\n",
    "        teams = int(teams.replace('teams', '').replace(',', ''))\n",
    "    else:\n",
    "        print(teams)\n",
    "        teams = None\n",
    "        \n",
    "    r.append(teams)\n",
    "    \n",
    "    spans = card[-1]\n",
    "    if len(spans) == 2:\n",
    "        submission_deadline = spans[1]\n",
    "    elif len(spans) == 0:\n",
    "        submission_deadline = None\n",
    "    else:\n",
    "        submission_deadline = [x for x in spans if x != ''][0]\n",
    "                \n",
    "    try:\n",
    "        # Tue Jun 30 2015 16:59:00\n",
    "        date_time_obj = datetime.strptime(submission_deadline[:15], '%a %b %d %Y')\n",
    "    except Exception as e:\n",
    "        print(e, card)\n",
    "        \n",
    "        date_time_obj = None\n",
    "    \n",
    "    r.append(date_time_obj)\n",
    "    \n",
    "    records.append(r)\n",
    "    \n",
    "df = pd.DataFrame(records, columns=['title', 'prize', 'prize_type', 'teams', 'submission_close'])\n",
    "\n",
    "df.head()"
   ]
  },
  {
   "cell_type": "code",
   "execution_count": 2,
   "metadata": {},
   "outputs": [
    {
     "name": "stdout",
     "output_type": "stream",
     "text": [
      "339\n",
      "236\n",
      "money        244\n",
      "Knowledge     48\n",
      "Swag          18\n",
      "Jobs          14\n",
      "Kudos         12\n",
      "USD            2\n",
      "â‚¬5,000       1\n",
      "Name: prize_type, dtype: int64\n"
     ]
    }
   ],
   "source": [
    "print(len(df))\n",
    "print(len(df.dropna()))\n",
    "\n",
    "print(df['prize_type'].value_counts())"
   ]
  },
  {
   "cell_type": "code",
   "execution_count": 3,
   "metadata": {},
   "outputs": [
    {
     "data": {
      "text/plain": [
       "'file://D:\\\\projects\\\\kaggle_competitions_stats\\\\temp-plot.html'"
      ]
     },
     "execution_count": 3,
     "metadata": {},
     "output_type": "execute_result"
    }
   ],
   "source": [
    "import plotly.graph_objs as go\n",
    "from plotly.offline import download_plotlyjs, init_notebook_mode, plot, iplot\n",
    "\n",
    "nona_df = df.dropna()\n",
    "nona_df = nona_df.sort_values(by='submission_close')\n",
    "\n",
    "data = [go.Scatter(x=nona_df['submission_close'], y=nona_df['teams'], mode='markers', name='markers', text=nona_df['title'])]\n",
    "\n",
    "plot(data)"
   ]
  },
  {
   "cell_type": "code",
   "execution_count": 4,
   "metadata": {},
   "outputs": [
    {
     "data": {
      "text/plain": [
       "'file://D:\\\\projects\\\\kaggle_competitions_stats\\\\temp-plot.html'"
      ]
     },
     "execution_count": 4,
     "metadata": {},
     "output_type": "execute_result"
    }
   ],
   "source": [
    "data = [go.Scatter(\n",
    "    x=nona_df['submission_close'], y=nona_df['prize'], mode='markers', name='markers',\n",
    "    text=nona_df['title'])]\n",
    "\n",
    "plot(data)"
   ]
  }
 ],
 "metadata": {
  "kernelspec": {
   "display_name": "Python [default]",
   "language": "python",
   "name": "python3"
  },
  "language_info": {
   "codemirror_mode": {
    "name": "ipython",
    "version": 3
   },
   "file_extension": ".py",
   "mimetype": "text/x-python",
   "name": "python",
   "nbconvert_exporter": "python",
   "pygments_lexer": "ipython3",
   "version": "3.5.4"
  }
 },
 "nbformat": 4,
 "nbformat_minor": 2
}
